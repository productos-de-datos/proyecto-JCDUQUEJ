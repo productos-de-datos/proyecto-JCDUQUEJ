{
 "cells": [
  {
   "cell_type": "code",
   "execution_count": 5,
   "metadata": {},
   "outputs": [
    {
     "data": {
      "text/html": [
       "<div>\n",
       "<style scoped>\n",
       "    .dataframe tbody tr th:only-of-type {\n",
       "        vertical-align: middle;\n",
       "    }\n",
       "\n",
       "    .dataframe tbody tr th {\n",
       "        vertical-align: top;\n",
       "    }\n",
       "\n",
       "    .dataframe thead th {\n",
       "        text-align: right;\n",
       "    }\n",
       "</style>\n",
       "<table border=\"1\" class=\"dataframe\">\n",
       "  <thead>\n",
       "    <tr style=\"text-align: right;\">\n",
       "      <th></th>\n",
       "      <th>Fecha</th>\n",
       "      <th>Precio</th>\n",
       "    </tr>\n",
       "  </thead>\n",
       "  <tbody>\n",
       "    <tr>\n",
       "      <th>0</th>\n",
       "      <td>1995-07-20</td>\n",
       "      <td>1.409435</td>\n",
       "    </tr>\n",
       "    <tr>\n",
       "      <th>1</th>\n",
       "      <td>1995-07-21</td>\n",
       "      <td>4.924333</td>\n",
       "    </tr>\n",
       "    <tr>\n",
       "      <th>2</th>\n",
       "      <td>1995-07-22</td>\n",
       "      <td>1.269500</td>\n",
       "    </tr>\n",
       "    <tr>\n",
       "      <th>3</th>\n",
       "      <td>1995-07-23</td>\n",
       "      <td>0.953083</td>\n",
       "    </tr>\n",
       "    <tr>\n",
       "      <th>4</th>\n",
       "      <td>1995-07-24</td>\n",
       "      <td>4.305917</td>\n",
       "    </tr>\n",
       "  </tbody>\n",
       "</table>\n",
       "</div>"
      ],
      "text/plain": [
       "        Fecha    Precio\n",
       "0  1995-07-20  1.409435\n",
       "1  1995-07-21  4.924333\n",
       "2  1995-07-22  1.269500\n",
       "3  1995-07-23  0.953083\n",
       "4  1995-07-24  4.305917"
      ]
     },
     "execution_count": 5,
     "metadata": {},
     "output_type": "execute_result"
    }
   ],
   "source": [
    "import numpy as np\n",
    "import pandas as pd\n",
    "import warnings\n",
    "warnings.filterwarnings(\"ignore\")\n",
    "\n",
    "daily_data = pd.read_csv('../../data_lake/business/features/precios_diarios.csv',index_col = None, header=0)\n",
    "\n",
    "daily_data.head() "
   ]
  },
  {
   "cell_type": "code",
   "execution_count": 6,
   "metadata": {},
   "outputs": [
    {
     "data": {
      "text/html": [
       "<div>\n",
       "<style scoped>\n",
       "    .dataframe tbody tr th:only-of-type {\n",
       "        vertical-align: middle;\n",
       "    }\n",
       "\n",
       "    .dataframe tbody tr th {\n",
       "        vertical-align: top;\n",
       "    }\n",
       "\n",
       "    .dataframe thead th {\n",
       "        text-align: right;\n",
       "    }\n",
       "</style>\n",
       "<table border=\"1\" class=\"dataframe\">\n",
       "  <thead>\n",
       "    <tr style=\"text-align: right;\">\n",
       "      <th></th>\n",
       "      <th>Precio</th>\n",
       "    </tr>\n",
       "    <tr>\n",
       "      <th>Fecha</th>\n",
       "      <th></th>\n",
       "    </tr>\n",
       "  </thead>\n",
       "  <tbody>\n",
       "    <tr>\n",
       "      <th>1995-07-20</th>\n",
       "      <td>1.409435</td>\n",
       "    </tr>\n",
       "    <tr>\n",
       "      <th>1995-07-21</th>\n",
       "      <td>4.924333</td>\n",
       "    </tr>\n",
       "    <tr>\n",
       "      <th>1995-07-22</th>\n",
       "      <td>1.269500</td>\n",
       "    </tr>\n",
       "    <tr>\n",
       "      <th>1995-07-23</th>\n",
       "      <td>0.953083</td>\n",
       "    </tr>\n",
       "    <tr>\n",
       "      <th>1995-07-24</th>\n",
       "      <td>4.305917</td>\n",
       "    </tr>\n",
       "  </tbody>\n",
       "</table>\n",
       "</div>"
      ],
      "text/plain": [
       "              Precio\n",
       "Fecha               \n",
       "1995-07-20  1.409435\n",
       "1995-07-21  4.924333\n",
       "1995-07-22  1.269500\n",
       "1995-07-23  0.953083\n",
       "1995-07-24  4.305917"
      ]
     },
     "execution_count": 6,
     "metadata": {},
     "output_type": "execute_result"
    }
   ],
   "source": [
    "daily_data['Fecha'] = pd.to_datetime(daily_data['Fecha'])\n",
    "daily_data.index = daily_data.Fecha\n",
    "\n",
    "del(daily_data['Fecha'])\n",
    "daily_data.head()"
   ]
  },
  {
   "cell_type": "code",
   "execution_count": 7,
   "metadata": {},
   "outputs": [
    {
     "data": {
      "text/plain": [
       "<AxesSubplot:xlabel='Fecha'>"
      ]
     },
     "execution_count": 7,
     "metadata": {},
     "output_type": "execute_result"
    },
    {
     "data": {
      "image/png": "[encoded data removed]",
      "text/plain": [
       "<Figure size 432x288 with 1 Axes>"
      ]
     },
     "metadata": {
      "needs_background": "light"
     },
     "output_type": "display_data"
    }
   ],
   "source": [
    "train = daily_data[:int(0.85*len(daily_data))]\n",
    "valid = daily_data[int(0.85*(len(daily_data))):]\n",
    "\n",
    "train['Precio'].plot()\n",
    "valid['Precio'].plot()"
   ]
  },
  {
   "cell_type": "code",
   "execution_count": 13,
   "metadata": {},
   "outputs": [
    {
     "name": "stdout",
     "output_type": "stream",
     "text": [
      "Requirement already satisfied: statsmodels in c:\\users\\usuario\\appdata\\local\\programs\\python\\python39\\lib\\site-packages (0.13.0)\n",
      "Requirement already satisfied: numpy>=1.17 in c:\\users\\usuario\\appdata\\local\\programs\\python\\python39\\lib\\site-packages (from statsmodels) (1.22.0)\n",
      "Requirement already satisfied: scipy>=1.3 in c:\\users\\usuario\\appdata\\local\\programs\\python\\python39\\lib\\site-packages (from statsmodels) (1.8.0)\n",
      "Requirement already satisfied: patsy>=0.5.2 in c:\\users\\usuario\\appdata\\local\\programs\\python\\python39\\lib\\site-packages (from statsmodels) (0.5.2)\n",
      "Requirement already satisfied: pandas>=0.25 in c:\\users\\usuario\\appdata\\local\\programs\\python\\python39\\lib\\site-packages (from statsmodels) (1.4.0)\n",
      "Requirement already satisfied: python-dateutil>=2.8.1 in c:\\users\\usuario\\appdata\\local\\programs\\python\\python39\\lib\\site-packages (from pandas>=0.25->statsmodels) (2.8.2)\n",
      "Requirement already satisfied: pytz>=2020.1 in c:\\users\\usuario\\appdata\\local\\programs\\python\\python39\\lib\\site-packages (from pandas>=0.25->statsmodels) (2022.1)\n",
      "Requirement already satisfied: six in c:\\users\\usuario\\appdata\\local\\programs\\python\\python39\\lib\\site-packages (from patsy>=0.5.2->statsmodels) (1.16.0)\n"
     ]
    }
   ],
   "source": [
    "!pip install statsmodels"
   ]
  },
  {
   "cell_type": "code",
   "execution_count": 19,
   "metadata": {},
   "outputs": [
    {
     "ename": "ImportError",
     "evalue": "cannot import name '_centered' from 'scipy.signal.signaltools' (c:\\Users\\USUARIO\\AppData\\Local\\Programs\\Python\\Python39\\lib\\site-packages\\scipy\\signal\\signaltools.py)",
     "output_type": "error",
     "traceback": [
      "\u001b[1;31m---------------------------------------------------------------------------\u001b[0m",
      "\u001b[1;31mImportError\u001b[0m                               Traceback (most recent call last)",
      "\u001b[1;32mc:\\Users\\USUARIO\\Desktop\\Documentos Maestría\\Semestre 1\\4. Producto de datos\\proyecto-JCDUQUEJ\\src\\notebooks\\characterize_data.ipynb Cell 5'\u001b[0m in \u001b[0;36m<cell line: 1>\u001b[1;34m()\u001b[0m\n\u001b[1;32m----> <a href='vscode-notebook-cell:/c%3A/Users/USUARIO/Desktop/Documentos%20Maestr%C3%ADa/Semestre%201/4.%20Producto%20de%20datos/proyecto-JCDUQUEJ/src/notebooks/characterize_data.ipynb#ch0000003?line=0'>1</a>\u001b[0m \u001b[39mfrom\u001b[39;00m \u001b[39mstatsmodels\u001b[39;00m\u001b[39m.\u001b[39;00m\u001b[39mtsa\u001b[39;00m\u001b[39m.\u001b[39;00m\u001b[39mseasonal\u001b[39;00m \u001b[39mimport\u001b[39;00m seasonal_decompose \u001b[39mas\u001b[39;00m seasonal_decompose\n\u001b[0;32m      <a href='vscode-notebook-cell:/c%3A/Users/USUARIO/Desktop/Documentos%20Maestr%C3%ADa/Semestre%201/4.%20Producto%20de%20datos/proyecto-JCDUQUEJ/src/notebooks/characterize_data.ipynb#ch0000003?line=1'>2</a>\u001b[0m result \u001b[39m=\u001b[39m seasonal_decompose(daily_data[\u001b[39m'\u001b[39m\u001b[39mPrecio\u001b[39m\u001b[39m'\u001b[39m], model \u001b[39m=\u001b[39m\u001b[39m'\u001b[39m\u001b[39mmultiplicative\u001b[39m\u001b[39m'\u001b[39m)\n\u001b[0;32m      <a href='vscode-notebook-cell:/c%3A/Users/USUARIO/Desktop/Documentos%20Maestr%C3%ADa/Semestre%201/4.%20Producto%20de%20datos/proyecto-JCDUQUEJ/src/notebooks/characterize_data.ipynb#ch0000003?line=2'>3</a>\u001b[0m result\u001b[39m.\u001b[39mplot()\n",
      "File \u001b[1;32mc:\\Users\\USUARIO\\AppData\\Local\\Programs\\Python\\Python39\\lib\\site-packages\\statsmodels\\tsa\\seasonal.py:10\u001b[0m, in \u001b[0;36m<module>\u001b[1;34m\u001b[0m\n\u001b[0;32m      8\u001b[0m \u001b[39mfrom\u001b[39;00m \u001b[39mstatsmodels\u001b[39;00m\u001b[39m.\u001b[39;00m\u001b[39mtools\u001b[39;00m\u001b[39m.\u001b[39;00m\u001b[39mvalidation\u001b[39;00m \u001b[39mimport\u001b[39;00m PandasWrapper, array_like\n\u001b[0;32m      9\u001b[0m \u001b[39mfrom\u001b[39;00m \u001b[39mstatsmodels\u001b[39;00m\u001b[39m.\u001b[39;00m\u001b[39mtsa\u001b[39;00m\u001b[39m.\u001b[39;00m\u001b[39m_stl\u001b[39;00m \u001b[39mimport\u001b[39;00m STL\n\u001b[1;32m---> 10\u001b[0m \u001b[39mfrom\u001b[39;00m \u001b[39mstatsmodels\u001b[39;00m\u001b[39m.\u001b[39;00m\u001b[39mtsa\u001b[39;00m\u001b[39m.\u001b[39;00m\u001b[39mfilters\u001b[39;00m\u001b[39m.\u001b[39;00m\u001b[39mfiltertools\u001b[39;00m \u001b[39mimport\u001b[39;00m convolution_filter\n\u001b[0;32m     11\u001b[0m \u001b[39mfrom\u001b[39;00m \u001b[39mstatsmodels\u001b[39;00m\u001b[39m.\u001b[39;00m\u001b[39mtsa\u001b[39;00m\u001b[39m.\u001b[39;00m\u001b[39mtsatools\u001b[39;00m \u001b[39mimport\u001b[39;00m freq_to_period\n\u001b[0;32m     13\u001b[0m __all__ \u001b[39m=\u001b[39m [\u001b[39m\"\u001b[39m\u001b[39mSTL\u001b[39m\u001b[39m\"\u001b[39m, \u001b[39m\"\u001b[39m\u001b[39mseasonal_decompose\u001b[39m\u001b[39m\"\u001b[39m, \u001b[39m\"\u001b[39m\u001b[39mseasonal_mean\u001b[39m\u001b[39m\"\u001b[39m, \u001b[39m\"\u001b[39m\u001b[39mDecomposeResult\u001b[39m\u001b[39m\"\u001b[39m]\n",
      "File \u001b[1;32mc:\\Users\\USUARIO\\AppData\\Local\\Programs\\Python\\Python39\\lib\\site-packages\\statsmodels\\tsa\\filters\\filtertools.py:18\u001b[0m, in \u001b[0;36m<module>\u001b[1;34m\u001b[0m\n\u001b[0;32m     16\u001b[0m \u001b[39mimport\u001b[39;00m \u001b[39mscipy\u001b[39;00m\u001b[39m.\u001b[39;00m\u001b[39mfftpack\u001b[39;00m \u001b[39mas\u001b[39;00m \u001b[39mfft\u001b[39;00m\n\u001b[0;32m     17\u001b[0m \u001b[39mfrom\u001b[39;00m \u001b[39mscipy\u001b[39;00m \u001b[39mimport\u001b[39;00m signal\n\u001b[1;32m---> 18\u001b[0m \u001b[39mfrom\u001b[39;00m \u001b[39mscipy\u001b[39;00m\u001b[39m.\u001b[39;00m\u001b[39msignal\u001b[39;00m\u001b[39m.\u001b[39;00m\u001b[39msignaltools\u001b[39;00m \u001b[39mimport\u001b[39;00m _centered \u001b[39mas\u001b[39;00m trim_centered\n\u001b[0;32m     20\u001b[0m \u001b[39mfrom\u001b[39;00m \u001b[39mstatsmodels\u001b[39;00m\u001b[39m.\u001b[39;00m\u001b[39mtools\u001b[39;00m\u001b[39m.\u001b[39;00m\u001b[39mvalidation\u001b[39;00m \u001b[39mimport\u001b[39;00m array_like, PandasWrapper\n\u001b[0;32m     22\u001b[0m \u001b[39mdef\u001b[39;00m \u001b[39m_pad_nans\u001b[39m(x, head\u001b[39m=\u001b[39m\u001b[39mNone\u001b[39;00m, tail\u001b[39m=\u001b[39m\u001b[39mNone\u001b[39;00m):\n",
      "\u001b[1;31mImportError\u001b[0m: cannot import name '_centered' from 'scipy.signal.signaltools' (c:\\Users\\USUARIO\\AppData\\Local\\Programs\\Python\\Python39\\lib\\site-packages\\scipy\\signal\\signaltools.py)"
     ]
    }
   ],
   "source": [
    "from statsmodels.tsa.seasonal import seasonal_decompose as seasonal_decompose\n",
    "result = seasonal_decompose(daily_data['Precio'], model ='multiplicative')\n",
    "result.plot()"
   ]
  },
  {
   "cell_type": "code",
   "execution_count": 20,
   "metadata": {},
   "outputs": [],
   "source": [
    "train = daily_data[:int(0.85*(len(daily_data)))]\n",
    "test = daily_data[int(0.85*(len(daily_data))):]"
   ]
  },
  {
   "cell_type": "code",
   "execution_count": 21,
   "metadata": {},
   "outputs": [
    {
     "ename": "ImportError",
     "evalue": "cannot import name '_centered' from 'scipy.signal.signaltools' (c:\\Users\\USUARIO\\AppData\\Local\\Programs\\Python\\Python39\\lib\\site-packages\\scipy\\signal\\signaltools.py)",
     "output_type": "error",
     "traceback": [
      "\u001b[1;31m---------------------------------------------------------------------------\u001b[0m",
      "\u001b[1;31mImportError\u001b[0m                               Traceback (most recent call last)",
      "\u001b[1;32mc:\\Users\\USUARIO\\Desktop\\Documentos Maestría\\Semestre 1\\4. Producto de datos\\proyecto-JCDUQUEJ\\src\\notebooks\\characterize_data.ipynb Cell 7'\u001b[0m in \u001b[0;36m<cell line: 1>\u001b[1;34m()\u001b[0m\n\u001b[1;32m----> <a href='vscode-notebook-cell:/c%3A/Users/USUARIO/Desktop/Documentos%20Maestr%C3%ADa/Semestre%201/4.%20Producto%20de%20datos/proyecto-JCDUQUEJ/src/notebooks/characterize_data.ipynb#ch0000004?line=0'>1</a>\u001b[0m \u001b[39mfrom\u001b[39;00m \u001b[39mpmdarima\u001b[39;00m \u001b[39mimport\u001b[39;00m auto_arima\n\u001b[0;32m      <a href='vscode-notebook-cell:/c%3A/Users/USUARIO/Desktop/Documentos%20Maestr%C3%ADa/Semestre%201/4.%20Producto%20de%20datos/proyecto-JCDUQUEJ/src/notebooks/characterize_data.ipynb#ch0000004?line=1'>2</a>\u001b[0m stepwise_fit \u001b[39m=\u001b[39m auto_arima(train[\u001b[39m'\u001b[39m\u001b[39mPrecio\u001b[39m\u001b[39m'\u001b[39m], seasonal \u001b[39m=\u001b[39m \u001b[39mTrue\u001b[39;00m,\n\u001b[0;32m      <a href='vscode-notebook-cell:/c%3A/Users/USUARIO/Desktop/Documentos%20Maestr%C3%ADa/Semestre%201/4.%20Producto%20de%20datos/proyecto-JCDUQUEJ/src/notebooks/characterize_data.ipynb#ch0000004?line=2'>3</a>\u001b[0m                           trace \u001b[39m=\u001b[39m \u001b[39mTrue\u001b[39;00m,\n\u001b[0;32m      <a href='vscode-notebook-cell:/c%3A/Users/USUARIO/Desktop/Documentos%20Maestr%C3%ADa/Semestre%201/4.%20Producto%20de%20datos/proyecto-JCDUQUEJ/src/notebooks/characterize_data.ipynb#ch0000004?line=3'>4</a>\u001b[0m                           error_action \u001b[39m=\u001b[39m\u001b[39m'\u001b[39m\u001b[39mignore\u001b[39m\u001b[39m'\u001b[39m,  \n\u001b[0;32m      <a href='vscode-notebook-cell:/c%3A/Users/USUARIO/Desktop/Documentos%20Maestr%C3%ADa/Semestre%201/4.%20Producto%20de%20datos/proyecto-JCDUQUEJ/src/notebooks/characterize_data.ipynb#ch0000004?line=4'>5</a>\u001b[0m                           suppress_warnings \u001b[39m=\u001b[39m \u001b[39mTrue\u001b[39;00m, \n\u001b[0;32m      <a href='vscode-notebook-cell:/c%3A/Users/USUARIO/Desktop/Documentos%20Maestr%C3%ADa/Semestre%201/4.%20Producto%20de%20datos/proyecto-JCDUQUEJ/src/notebooks/characterize_data.ipynb#ch0000004?line=5'>6</a>\u001b[0m                           stepwise \u001b[39m=\u001b[39m \u001b[39mTrue\u001b[39;00m)          \n\u001b[0;32m      <a href='vscode-notebook-cell:/c%3A/Users/USUARIO/Desktop/Documentos%20Maestr%C3%ADa/Semestre%201/4.%20Producto%20de%20datos/proyecto-JCDUQUEJ/src/notebooks/characterize_data.ipynb#ch0000004?line=7'>8</a>\u001b[0m stepwise_fit\u001b[39m.\u001b[39msummary()\n",
      "File \u001b[1;32mc:\\Users\\USUARIO\\AppData\\Local\\Programs\\Python\\Python39\\lib\\site-packages\\pmdarima\\__init__.py:52\u001b[0m, in \u001b[0;36m<module>\u001b[1;34m\u001b[0m\n\u001b[0;32m     49\u001b[0m \u001b[39mfrom\u001b[39;00m \u001b[39m.\u001b[39;00m \u001b[39mimport\u001b[39;00m __check_build\n\u001b[0;32m     51\u001b[0m \u001b[39m# Stuff we want at top-level\u001b[39;00m\n\u001b[1;32m---> 52\u001b[0m \u001b[39mfrom\u001b[39;00m \u001b[39m.\u001b[39;00m\u001b[39marima\u001b[39;00m \u001b[39mimport\u001b[39;00m auto_arima, ARIMA, AutoARIMA, StepwiseContext, decompose\n\u001b[0;32m     53\u001b[0m \u001b[39mfrom\u001b[39;00m \u001b[39m.\u001b[39;00m\u001b[39mutils\u001b[39;00m \u001b[39mimport\u001b[39;00m acf, autocorr_plot, c, pacf, plot_acf, plot_pacf, \\\n\u001b[0;32m     54\u001b[0m     tsdisplay\n\u001b[0;32m     55\u001b[0m \u001b[39mfrom\u001b[39;00m \u001b[39m.\u001b[39;00m\u001b[39mutils\u001b[39;00m\u001b[39m.\u001b[39;00m\u001b[39m_show_versions\u001b[39;00m \u001b[39mimport\u001b[39;00m show_versions\n",
      "File \u001b[1;32mc:\\Users\\USUARIO\\AppData\\Local\\Programs\\Python\\Python39\\lib\\site-packages\\pmdarima\\arima\\__init__.py:6\u001b[0m, in \u001b[0;36m<module>\u001b[1;34m\u001b[0m\n\u001b[0;32m      1\u001b[0m \u001b[39m# -*- coding: utf-8 -*-\u001b[39;00m\n\u001b[0;32m      2\u001b[0m \u001b[39m#\u001b[39;00m\n\u001b[0;32m      3\u001b[0m \u001b[39m# Author: Taylor Smith <taylor.smith@alkaline-ml.com>\u001b[39;00m\n\u001b[0;32m      5\u001b[0m \u001b[39mfrom\u001b[39;00m \u001b[39m.\u001b[39;00m\u001b[39mapprox\u001b[39;00m \u001b[39mimport\u001b[39;00m \u001b[39m*\u001b[39m\n\u001b[1;32m----> 6\u001b[0m \u001b[39mfrom\u001b[39;00m \u001b[39m.\u001b[39;00m\u001b[39marima\u001b[39;00m \u001b[39mimport\u001b[39;00m \u001b[39m*\u001b[39m\n\u001b[0;32m      7\u001b[0m \u001b[39mfrom\u001b[39;00m \u001b[39m.\u001b[39;00m\u001b[39mauto\u001b[39;00m \u001b[39mimport\u001b[39;00m \u001b[39m*\u001b[39m\n\u001b[0;32m      8\u001b[0m \u001b[39mfrom\u001b[39;00m \u001b[39m.\u001b[39;00m\u001b[39mutils\u001b[39;00m \u001b[39mimport\u001b[39;00m \u001b[39m*\u001b[39m\n",
      "File \u001b[1;32mc:\\Users\\USUARIO\\AppData\\Local\\Programs\\Python\\Python39\\lib\\site-packages\\pmdarima\\arima\\arima.py:10\u001b[0m, in \u001b[0;36m<module>\u001b[1;34m\u001b[0m\n\u001b[0;32m      1\u001b[0m \u001b[39m# -*- coding: utf-8 -*-\u001b[39;00m\n\u001b[0;32m      2\u001b[0m \u001b[39m#\u001b[39;00m\n\u001b[0;32m      3\u001b[0m \u001b[39m# Author: Taylor Smith <taylor.smith@alkaline-ml.com>\u001b[39;00m\n\u001b[0;32m      4\u001b[0m \u001b[39m#\u001b[39;00m\n\u001b[0;32m      5\u001b[0m \u001b[39m# A user-friendly wrapper to the statsmodels ARIMA that mimics the familiar\u001b[39;00m\n\u001b[0;32m      6\u001b[0m \u001b[39m# sklearn interface.\u001b[39;00m\n\u001b[0;32m      8\u001b[0m \u001b[39mfrom\u001b[39;00m \u001b[39msklearn\u001b[39;00m\u001b[39m.\u001b[39;00m\u001b[39mutils\u001b[39;00m\u001b[39m.\u001b[39;00m\u001b[39mvalidation\u001b[39;00m \u001b[39mimport\u001b[39;00m check_array\n\u001b[1;32m---> 10\u001b[0m \u001b[39mfrom\u001b[39;00m \u001b[39mstatsmodels\u001b[39;00m \u001b[39mimport\u001b[39;00m api \u001b[39mas\u001b[39;00m sm\n\u001b[0;32m     12\u001b[0m \u001b[39mfrom\u001b[39;00m \u001b[39mscipy\u001b[39;00m\u001b[39m.\u001b[39;00m\u001b[39mstats\u001b[39;00m \u001b[39mimport\u001b[39;00m gaussian_kde, norm\n\u001b[0;32m     13\u001b[0m \u001b[39mimport\u001b[39;00m \u001b[39mnumpy\u001b[39;00m \u001b[39mas\u001b[39;00m \u001b[39mnp\u001b[39;00m\n",
      "File \u001b[1;32mc:\\Users\\USUARIO\\AppData\\Local\\Programs\\Python\\Python39\\lib\\site-packages\\statsmodels\\api.py:124\u001b[0m, in \u001b[0;36m<module>\u001b[1;34m\u001b[0m\n\u001b[0;32m    122\u001b[0m \u001b[39mfrom\u001b[39;00m \u001b[39m.\u001b[39;00m\u001b[39mtools\u001b[39;00m\u001b[39m.\u001b[39;00m\u001b[39mtools\u001b[39;00m \u001b[39mimport\u001b[39;00m add_constant, categorical\n\u001b[0;32m    123\u001b[0m \u001b[39mfrom\u001b[39;00m \u001b[39m.\u001b[39;00m\u001b[39mtools\u001b[39;00m\u001b[39m.\u001b[39;00m\u001b[39mweb\u001b[39;00m \u001b[39mimport\u001b[39;00m webdoc\n\u001b[1;32m--> 124\u001b[0m \u001b[39mfrom\u001b[39;00m \u001b[39m.\u001b[39;00m\u001b[39mtsa\u001b[39;00m \u001b[39mimport\u001b[39;00m api \u001b[39mas\u001b[39;00m tsa\n\u001b[0;32m    125\u001b[0m \u001b[39mfrom\u001b[39;00m \u001b[39m.\u001b[39;00m\u001b[39m_version\u001b[39;00m \u001b[39mimport\u001b[39;00m get_versions\n\u001b[0;32m    127\u001b[0m __version__ \u001b[39m=\u001b[39m get_versions()[\u001b[39m\"\u001b[39m\u001b[39mversion\u001b[39m\u001b[39m\"\u001b[39m]\n",
      "File \u001b[1;32mc:\\Users\\USUARIO\\AppData\\Local\\Programs\\Python\\Python39\\lib\\site-packages\\statsmodels\\tsa\\api.py:74\u001b[0m, in \u001b[0;36m<module>\u001b[1;34m\u001b[0m\n\u001b[0;32m     72\u001b[0m \u001b[39mfrom\u001b[39;00m \u001b[39m.\u001b[39;00m\u001b[39mbase\u001b[39;00m \u001b[39mimport\u001b[39;00m datetools\n\u001b[0;32m     73\u001b[0m \u001b[39mfrom\u001b[39;00m \u001b[39m.\u001b[39;00m\u001b[39mexponential_smoothing\u001b[39;00m\u001b[39m.\u001b[39;00m\u001b[39mets\u001b[39;00m \u001b[39mimport\u001b[39;00m ETSModel\n\u001b[1;32m---> 74\u001b[0m \u001b[39mfrom\u001b[39;00m \u001b[39m.\u001b[39;00m\u001b[39mfilters\u001b[39;00m \u001b[39mimport\u001b[39;00m api \u001b[39mas\u001b[39;00m filters, bk_filter, cf_filter, hp_filter\n\u001b[0;32m     75\u001b[0m \u001b[39mfrom\u001b[39;00m \u001b[39m.\u001b[39;00m\u001b[39mforecasting\u001b[39;00m\u001b[39m.\u001b[39;00m\u001b[39mstl\u001b[39;00m \u001b[39mimport\u001b[39;00m STLForecast\n\u001b[0;32m     76\u001b[0m \u001b[39mfrom\u001b[39;00m \u001b[39m.\u001b[39;00m\u001b[39mholtwinters\u001b[39;00m \u001b[39mimport\u001b[39;00m ExponentialSmoothing, Holt, SimpleExpSmoothing\n",
      "File \u001b[1;32mc:\\Users\\USUARIO\\AppData\\Local\\Programs\\Python\\Python39\\lib\\site-packages\\statsmodels\\tsa\\filters\\api.py:6\u001b[0m, in \u001b[0;36m<module>\u001b[1;34m\u001b[0m\n\u001b[0;32m      4\u001b[0m \u001b[39mfrom\u001b[39;00m \u001b[39m.\u001b[39;00m\u001b[39mhp_filter\u001b[39;00m \u001b[39mimport\u001b[39;00m hpfilter\n\u001b[0;32m      5\u001b[0m \u001b[39mfrom\u001b[39;00m \u001b[39m.\u001b[39;00m\u001b[39mcf_filter\u001b[39;00m \u001b[39mimport\u001b[39;00m cffilter\n\u001b[1;32m----> 6\u001b[0m \u001b[39mfrom\u001b[39;00m \u001b[39m.\u001b[39;00m\u001b[39mfiltertools\u001b[39;00m \u001b[39mimport\u001b[39;00m miso_lfilter, convolution_filter, recursive_filter\n",
      "File \u001b[1;32mc:\\Users\\USUARIO\\AppData\\Local\\Programs\\Python\\Python39\\lib\\site-packages\\statsmodels\\tsa\\filters\\filtertools.py:18\u001b[0m, in \u001b[0;36m<module>\u001b[1;34m\u001b[0m\n\u001b[0;32m     16\u001b[0m \u001b[39mimport\u001b[39;00m \u001b[39mscipy\u001b[39;00m\u001b[39m.\u001b[39;00m\u001b[39mfftpack\u001b[39;00m \u001b[39mas\u001b[39;00m \u001b[39mfft\u001b[39;00m\n\u001b[0;32m     17\u001b[0m \u001b[39mfrom\u001b[39;00m \u001b[39mscipy\u001b[39;00m \u001b[39mimport\u001b[39;00m signal\n\u001b[1;32m---> 18\u001b[0m \u001b[39mfrom\u001b[39;00m \u001b[39mscipy\u001b[39;00m\u001b[39m.\u001b[39;00m\u001b[39msignal\u001b[39;00m\u001b[39m.\u001b[39;00m\u001b[39msignaltools\u001b[39;00m \u001b[39mimport\u001b[39;00m _centered \u001b[39mas\u001b[39;00m trim_centered\n\u001b[0;32m     20\u001b[0m \u001b[39mfrom\u001b[39;00m \u001b[39mstatsmodels\u001b[39;00m\u001b[39m.\u001b[39;00m\u001b[39mtools\u001b[39;00m\u001b[39m.\u001b[39;00m\u001b[39mvalidation\u001b[39;00m \u001b[39mimport\u001b[39;00m array_like, PandasWrapper\n\u001b[0;32m     22\u001b[0m \u001b[39mdef\u001b[39;00m \u001b[39m_pad_nans\u001b[39m(x, head\u001b[39m=\u001b[39m\u001b[39mNone\u001b[39;00m, tail\u001b[39m=\u001b[39m\u001b[39mNone\u001b[39;00m):\n",
      "\u001b[1;31mImportError\u001b[0m: cannot import name '_centered' from 'scipy.signal.signaltools' (c:\\Users\\USUARIO\\AppData\\Local\\Programs\\Python\\Python39\\lib\\site-packages\\scipy\\signal\\signaltools.py)"
     ]
    }
   ],
   "source": [
    "from pmdarima import auto_arima\n",
    "stepwise_fit = auto_arima(train['Precio'], seasonal = True,\n",
    "                          trace = True,\n",
    "                          error_action ='ignore',  \n",
    "                          suppress_warnings = True, \n",
    "                          stepwise = True)          \n",
    "  \n",
    "stepwise_fit.summary()"
   ]
  },
  {
   "cell_type": "markdown",
   "metadata": {},
   "source": [
    "ARIMA(5,1,0)(0,0,0)[1] intercept   : AIC=71751.690, Time=1.58 sec\n",
    "\n",
    "Best model:  ARIMA(2,1,3)(0,0,0)[1] intercept\n",
    "Total fit time: 101.490 seconds\n",
    "SARIMAX Results\n",
    "Dep. Variable:\ty\tNo. Observations:\t8004\n",
    "Model:\tSARIMAX(2, 1, 3)\tLog Likelihood\t-35838.264\n",
    "Date:\tSat, 02 Jul 2022\tAIC\t71690.528\n",
    "Time:\t03:54:37\tBIC\t71739.441\n",
    "Sample:\t0\tHQIC\t71707.270\n",
    "- 8004\t\t\n",
    "Covariance Type:\topg\t\t\n",
    "coef\tstd err\tz\tP>|z|\t[0.025\t0.975]\n",
    "intercept\t0.0051\t0.194\t0.026\t0.979\t-0.375\t0.386\n",
    "ar.L1\t1.2732\t0.003\t421.049\t0.000\t1.267\t1.279\n",
    "ar.L2\t-0.9337\t0.003\t-341.332\t0.000\t-0.939\t-0.928\n",
    "ma.L1\t-1.1756\t0.004\t-303.379\t0.000\t-1.183\t-1.168\n",
    "ma.L2\t0.7443\t0.004\t171.374\t0.000\t0.736\t0.753\n",
    "ma.L3\t0.1406\t0.002\t63.792\t0.000\t0.136\t0.145\n",
    "sigma2\t454.0654\t0.868\t522.929\t0.000\t452.364\t455.767\n",
    "Ljung-Box (L1) (Q):\t0.35\tJarque-Bera (JB):\t48977778.28\n",
    "Prob(Q):\t0.56\tProb(JB):\t0.00\n",
    "Heteroskedasticity (H):\t18.99\tSkew:\t-6.71\n",
    "Prob(H) (two-sided):\t0.00\tKurtosis:\t386.01\n"
   ]
  },
  {
   "cell_type": "code",
   "execution_count": null,
   "metadata": {},
   "outputs": [],
   "source": [
    "stepwise_fit = auto_arima(train['Precio'], seasonal = True,\n",
    "                          trace = True,\n",
    "                          error_action ='ignore',  \n",
    "                          suppress_warnings = True, \n",
    "                          stepwise = False)          \n",
    "  \n",
    "stepwise_fit.summary()"
   ]
  },
  {
   "cell_type": "markdown",
   "metadata": {},
   "source": [
    "Best model:  ARIMA(4,1,5)(0,0,0)[0]          \n",
    "Total fit time: 372.726 seconds\n",
    "SARIMAX Results\n",
    "Dep. Variable:\ty\tNo. Observations:\t8004\n",
    "Model:\tSARIMAX(4, 1, 5)\tLog Likelihood\t-35781.741\n",
    "Date:\tSat, 02 Jul 2022\tAIC\t71583.482\n",
    "Time:\t04:00:51\tBIC\t71653.357\n",
    "Sample:\t0\tHQIC\t71607.399\n",
    "- 8004\t\t\n",
    "Covariance Type:\topg\t\t\n",
    "coef\tstd err\tz\tP>|z|\t[0.025\t0.975]\n",
    "ar.L1\t-0.0856\t0.010\t-8.195\t0.000\t-0.106\t-0.065\n",
    "ar.L2\t-1.3597\t0.013\t-107.376\t0.000\t-1.385\t-1.335\n",
    "ar.L3\t-0.1403\t0.011\t-12.427\t0.000\t-0.162\t-0.118\n",
    "ar.L4\t-0.6289\t0.013\t-48.355\t0.000\t-0.654\t-0.603\n",
    "ma.L1\t0.1797\t0.010\t17.616\t0.000\t0.160\t0.200\n",
    "ma.L2\t1.2960\t0.013\t96.942\t0.000\t1.270\t1.322\n",
    "ma.L3\t0.1724\t0.011\t16.318\t0.000\t0.152\t0.193\n",
    "ma.L4\t0.5704\t0.013\t43.733\t0.000\t0.545\t0.596\n",
    "ma.L5\t-0.0893\t0.005\t-18.178\t0.000\t-0.099\t-0.080\n",
    "sigma2\t447.4675\t0.960\t466.132\t0.000\t445.586\t449.349\n",
    "Ljung-Box (L1) (Q):\t0.14\tJarque-Bera (JB):\t44909072.51\n",
    "Prob(Q):\t0.71\tProb(JB):\t0.00\n",
    "Heteroskedasticity (H):\t18.78\tSkew:\t-7.15\n",
    "Prob(H) (two-sided):\t0.00\tKurtosis:\t369.70"
   ]
  }
 ],
 "metadata": {
  "kernelspec": {
   "display_name": "Python 3.9.10 64-bit",
   "language": "python",
   "name": "python3"
  },
  "language_info": {
   "codemirror_mode": {
    "name": "ipython",
    "version": 3
   },
   "file_extension": ".py",
   "mimetype": "text/x-python",
   "name": "python",
   "nbconvert_exporter": "python",
   "pygments_lexer": "ipython3",
   "version": "3.9.10"
  },
  "orig_nbformat": 4,
  "vscode": {
   "interpreter": {
    "hash": "4ff442374353e7cd8d0b317b986b0b774c361b92b00d7ea43e4b1384f67d1c1b"
   }
  }
 },
 "nbformat": 4,
 "nbformat_minor": 2
}
